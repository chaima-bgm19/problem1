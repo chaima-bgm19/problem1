{
 "cells": [
  {
   "cell_type": "code",
   "execution_count": null,
   "id": "a62d8c8e-3d9e-42dc-8b26-5b4c4451bf0b",
   "metadata": {},
   "outputs": [],
   "source": []
  },
  {
   "cell_type": "code",
   "execution_count": null,
   "id": "1cd1f946-8c91-4a45-8da7-fff284f8674e",
   "metadata": {},
   "outputs": [],
   "source": []
  },
  {
   "cell_type": "code",
   "execution_count": null,
   "id": "82db7cb2-f649-46d0-9be4-15d2d40a07cc",
   "metadata": {},
   "outputs": [],
   "source": []
  },
  {
   "cell_type": "code",
   "execution_count": null,
   "id": "4ac611ea-bc2d-4b47-8907-8463baad04e2",
   "metadata": {},
   "outputs": [],
   "source": []
  },
  {
   "cell_type": "code",
   "execution_count": 42,
   "id": "b849915b-f113-4be4-b31a-c17f5dec2440",
   "metadata": {},
   "outputs": [
    {
     "name": "stdin",
     "output_type": "stream",
     "text": [
      "Enter a number:  23\n"
     ]
    },
    {
     "name": "stdout",
     "output_type": "stream",
     "text": [
      "23 is a prime\n"
     ]
    }
   ],
   "source": [
    "\n",
    "\n",
    "number= int(input(\"Enter a number: \"))\n",
    "if number <=1 :\n",
    "    print( \"number not prime\" )\n",
    "    \n",
    "else:\n",
    "    for divisor in range(2,int(number//2) + 1):\n",
    "          if number % divisor == 0:\n",
    "            \n",
    "              print(number ,\" is not  prime \")\n",
    "              break\n",
    "    else:\n",
    "         print ( number, \"is a prime\")\n",
    "\n"
   ]
  },
  {
   "cell_type": "code",
   "execution_count": null,
   "id": "02526c0e-a536-43e1-a322-0d8f6010950b",
   "metadata": {},
   "outputs": [],
   "source": []
  },
  {
   "cell_type": "code",
   "execution_count": null,
   "id": "88e32dff-d681-421e-a5b9-07b08f37fb78",
   "metadata": {},
   "outputs": [],
   "source": []
  },
  {
   "cell_type": "code",
   "execution_count": null,
   "id": "e076d2e1-2cff-41fe-91e6-14a1cc8dd744",
   "metadata": {},
   "outputs": [],
   "source": []
  }
 ],
 "metadata": {
  "kernelspec": {
   "display_name": "Python 3 (ipykernel)",
   "language": "python",
   "name": "python3"
  },
  "language_info": {
   "codemirror_mode": {
    "name": "ipython",
    "version": 3
   },
   "file_extension": ".py",
   "mimetype": "text/x-python",
   "name": "python",
   "nbconvert_exporter": "python",
   "pygments_lexer": "ipython3",
   "version": "3.13.1"
  }
 },
 "nbformat": 4,
 "nbformat_minor": 5
}
